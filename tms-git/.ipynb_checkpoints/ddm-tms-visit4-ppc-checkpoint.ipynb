{
 "cells": [
  {
   "cell_type": "code",
   "execution_count": 10,
   "id": "14cb625b",
   "metadata": {},
   "outputs": [],
   "source": [
    "#####\n",
    "#####  SET UP ENVIRONMENT\n",
    "#####\n",
    "\n",
    "# Import requisite packages\n",
    "import pandas as pd\n",
    "import hddm\n",
    "import pickle\n",
    "from patsy import dmatrix\n",
    "from kabuki.utils import concat_models\n",
    "import pathlib\n",
    "\n",
    "# Name this model\n",
    "modelName = 'm04_va_visit2'  # Change this!\n",
    "\n",
    "# Check whether save directories exist; if not, create them\n",
    "pathlib.Path('./PPC/').mkdir(parents=True, exist_ok=True)"
   ]
  },
  {
   "cell_type": "code",
   "execution_count": 25,
   "id": "a9761cff",
   "metadata": {},
   "outputs": [],
   "source": [
    "\n",
    "import pymc as pm\n",
    "import numpy as np\n",
    "import pymc.progressbar as pbar\n",
    "\n",
    "def _parents_to_random_posterior_sample(bottom_node, pos=None):\n",
    "    \"\"\"Walks through parents and sets them to pos sample.\"\"\"\n",
    "    for i, parent in enumerate(bottom_node.extended_parents):\n",
    "        if not isinstance(parent, pm.Node): # Skip non-stochastic nodes\n",
    "            continue\n",
    "\n",
    "        if pos is None:\n",
    "            # Set to random posterior position\n",
    "            pos = np.random.randint(0, len(parent.trace()))\n",
    "\n",
    "        assert len(parent.trace()) >= pos, \"pos larger than posterior sample size\"\n",
    "        parent.value = parent.trace()[pos]\n",
    "\n",
    "def _post_pred_generate(bottom_node, samples=500, data=None, append_data=True):\n",
    "    \"\"\"Generate posterior predictive data from a single observed node.\"\"\"\n",
    "    datasets = []\n",
    "    ##############################\n",
    "    # Sample and generate stats\n",
    "    for sample in range(samples):\n",
    "        _parents_to_random_posterior_sample(bottom_node)\n",
    "        # Generate data from bottom node\n",
    "        sampled_data = bottom_node.random()\n",
    "        sampled_data.reset_index(inplace=True)\n",
    "        if append_data and data is not None:\n",
    "            sampled_data = sampled_data.join(data.reset_index(), lsuffix='_sampled')\n",
    "        datasets.append(sampled_data)\n",
    "    return datasets\n",
    "\n",
    "def post_pred_gen(model, groupby=None, samples=500, append_data=False, progress_bar=True):\n",
    "    results = {}\n",
    "\n",
    "    # Progress bar\n",
    "    if progress_bar:\n",
    "        n_iter = len(model.get_observeds())\n",
    "        bar = pbar.progress_bar(n_iter)\n",
    "        bar_iter = 0\n",
    "    else:\n",
    "        print(\"Sampling...\")\n",
    "\n",
    "    if groupby is None:\n",
    "        iter_data = ((name, model.data.ix[obs['node'].value.index]) for name, obs in model.iter_observeds())\n",
    "    else:\n",
    "        iter_data = model.data.groupby(groupby)\n",
    "\n",
    "    for name, data in iter_data:\n",
    "        node = model.get_data_nodes(data.index)\n",
    "\n",
    "        if progress_bar:\n",
    "            bar_iter += 1\n",
    "            bar.update(bar_iter)\n",
    "\n",
    "        if node is None or not hasattr(node, 'random'):\n",
    "            continue # Skip\n",
    "\n",
    "        ##############################\n",
    "        # Sample and generate stats\n",
    "        datasets = _post_pred_generate(node, samples=samples, data=data, append_data=append_data)\n",
    "        results[name] = pd.concat(datasets, names=['sample'], keys=list(range(len(datasets))))\n",
    "\n",
    "    if progress_bar:\n",
    "        bar_iter += 1\n",
    "        bar.update(bar_iter)\n",
    "\n",
    "    return pd.concat(results, names=['node'])\n",
    "\n"
   ]
  },
  {
   "cell_type": "code",
   "execution_count": 19,
   "id": "9bcd21f3",
   "metadata": {},
   "outputs": [],
   "source": [
    "\n",
    "#####\n",
    "#####  LOAD MODELS AND TRACES FROM PREVIOUSLY ESTIMATED REGRESSIONS\n",
    "#####\n",
    "\n",
    "# Load previously estimated models\n",
    "m0 = pickle.load(open('./Models/'+modelName+'_0', 'rb'))\n",
    "m1 = pickle.load(open('./Models/'+modelName+'_1', 'rb'))\n",
    "m2 = pickle.load(open('./Models/'+modelName+'_2', 'rb'))\n",
    "m3 = pickle.load(open('./Models/'+modelName+'_3', 'rb'))\n",
    "m4 = pickle.load(open('./Models/'+modelName+'_4', 'rb'))\n",
    "\n",
    "# Combine traces\n",
    "models = [m0, m1, m2, m3, m4]\n",
    "m = concat_models(models)"
   ]
  },
  {
   "cell_type": "code",
   "execution_count": 22,
   "id": "9319b91c",
   "metadata": {},
   "outputs": [
    {
     "name": "stdout",
     "output_type": "stream",
     "text": [
      " [------------------105%------------------] 18 of 17 complete in 50.4 sec"
     ]
    }
   ],
   "source": [
    "# m.nodes_db\n",
    "# ppc_data = hddm.utils.post_pred_gen(m)"
   ]
  },
  {
   "cell_type": "code",
   "execution_count": 26,
   "id": "83f387e8",
   "metadata": {},
   "outputs": [
    {
     "name": "stdout",
     "output_type": "stream",
     "text": [
      " [------------------105%------------------] 18 of 17 complete in 122.9 sec"
     ]
    }
   ],
   "source": [
    "# Generate predicted results from previously estimated models\n",
    "ppc_data = hddm.utils.post_pred_gen(m, samples=1000, append_data=True)\n",
    "ppc_data.to_csv('./PPC/'+modelName+'_simData.csv')"
   ]
  }
 ],
 "metadata": {
  "kernelspec": {
   "display_name": "Python 3",
   "language": "python",
   "name": "python3"
  },
  "language_info": {
   "codemirror_mode": {
    "name": "ipython",
    "version": 3
   },
   "file_extension": ".py",
   "mimetype": "text/x-python",
   "name": "python",
   "nbconvert_exporter": "python",
   "pygments_lexer": "ipython3",
   "version": "3.6.13"
  }
 },
 "nbformat": 4,
 "nbformat_minor": 5
}
