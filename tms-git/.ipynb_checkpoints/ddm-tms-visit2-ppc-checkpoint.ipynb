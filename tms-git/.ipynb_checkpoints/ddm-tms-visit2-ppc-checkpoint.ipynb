{
 "cells": [
  {
   "cell_type": "code",
   "execution_count": 1,
   "id": "14cb625b",
   "metadata": {},
   "outputs": [
    {
     "name": "stdout",
     "output_type": "stream",
     "text": [
      "HDDM: pytorch module seems missing. No LAN functionality can be loaded.\n",
      "It seems that you do not have pytorch installed. You cannot use the network_inspector module.\n",
      "It seems that you do not have pytorch installed.The HDDMnn, HDDMnnRegressor, HDDMnnStimCoding, HDDMnnRL and HDDMnnRLRegressorclasses will not work\n",
      "It seems that you do not have pytorch installed.The HDDMnn, HDDMnnRegressor, HDDMnnStimCoding, HDDMnnRL and HDDMnnRLRegressorclasses will not work\n",
      "It seems that you do not have pytorch installed.The HDDMnn, HDDMnnRegressor and HDDMnnStimCodingclasses will not work\n",
      "It seems that you do not have pytorch installed.The HDDMnn, HDDMnnRL, HDDMnnRegressor, HDDMnnStimCoding, HDDMnnRL and HDDMnnRLRegressorclasses will not work\n",
      "It seems that you do not have pytorch installed.The HDDMnn, HDDMnnRegressor, HDDMnnStimCoding, HDDMnnRL and HDDMnnRLRegressorclasses will not work\n"
     ]
    }
   ],
   "source": [
    "#####\n",
    "#####  SET UP ENVIRONMENT\n",
    "#####\n",
    "\n",
    "# Import requisite packages\n",
    "import pandas as pd\n",
    "import hddm\n",
    "import pickle\n",
    "from patsy import dmatrix\n",
    "from kabuki.utils import concat_models\n",
    "import pathlib\n",
    "\n",
    "# Name this model\n",
    "modelName = 'm04_va_visit2'  # Change this!\n",
    "\n",
    "# Check whether save directories exist; if not, create them\n",
    "pathlib.Path('./PPC/').mkdir(parents=True, exist_ok=True)"
   ]
  },
  {
   "cell_type": "code",
   "execution_count": 2,
   "id": "a9761cff",
   "metadata": {},
   "outputs": [],
   "source": [
    "\n",
    "import pymc as pm\n",
    "import numpy as np\n",
    "import pymc.progressbar as pbar\n",
    "\n",
    "def _parents_to_random_posterior_sample(bottom_node, pos=None):\n",
    "    \"\"\"Walks through parents and sets them to pos sample.\"\"\"\n",
    "    for i, parent in enumerate(bottom_node.extended_parents):\n",
    "        if not isinstance(parent, pm.Node): # Skip non-stochastic nodes\n",
    "            continue\n",
    "\n",
    "        if pos is None:\n",
    "            # Set to random posterior position\n",
    "            pos = np.random.randint(0, len(parent.trace()))\n",
    "\n",
    "        assert len(parent.trace()) >= pos, \"pos larger than posterior sample size\"\n",
    "        parent.value = parent.trace()[pos]\n",
    "\n",
    "def _post_pred_generate(bottom_node, samples=500, data=None, append_data=True):\n",
    "    \"\"\"Generate posterior predictive data from a single observed node.\"\"\"\n",
    "    datasets = []\n",
    "    ##############################\n",
    "    # Sample and generate stats\n",
    "    for sample in range(samples):\n",
    "        _parents_to_random_posterior_sample(bottom_node)\n",
    "        # Generate data from bottom node\n",
    "        sampled_data = bottom_node.random()\n",
    "        sampled_data.reset_index(inplace=True)\n",
    "        if append_data and data is not None:\n",
    "            sampled_data = sampled_data.join(data.reset_index(), lsuffix='_sampled')\n",
    "        datasets.append(sampled_data)\n",
    "    return datasets\n",
    "\n",
    "def post_pred_gen(model, groupby=None, samples=500, append_data=False, progress_bar=True):\n",
    "    results = {}\n",
    "\n",
    "    # Progress bar\n",
    "    if progress_bar:\n",
    "        n_iter = len(model.get_observeds())\n",
    "        bar = pbar.progress_bar(n_iter)\n",
    "        bar_iter = 0\n",
    "    else:\n",
    "        print(\"Sampling...\")\n",
    "\n",
    "    if groupby is None:\n",
    "        iter_data = ((name, model.data.ix[obs['node'].value.index]) for name, obs in model.iter_observeds())\n",
    "    else:\n",
    "        iter_data = model.data.groupby(groupby)\n",
    "\n",
    "    for name, data in iter_data:\n",
    "        node = model.get_data_nodes(data.index)\n",
    "\n",
    "        if progress_bar:\n",
    "            bar_iter += 1\n",
    "            bar.update(bar_iter)\n",
    "\n",
    "        if node is None or not hasattr(node, 'random'):\n",
    "            continue # Skip\n",
    "\n",
    "        ##############################\n",
    "        # Sample and generate stats\n",
    "        datasets = _post_pred_generate(node, samples=samples, data=data, append_data=append_data)\n",
    "        results[name] = pd.concat(datasets, names=['sample'], keys=list(range(len(datasets))))\n",
    "\n",
    "    if progress_bar:\n",
    "        bar_iter += 1\n",
    "        bar.update(bar_iter)\n",
    "\n",
    "    return pd.concat(results, names=['node'])\n",
    "\n"
   ]
  },
  {
   "cell_type": "code",
   "execution_count": 3,
   "id": "9bcd21f3",
   "metadata": {},
   "outputs": [],
   "source": [
    "\n",
    "#####\n",
    "#####  LOAD MODELS AND TRACES FROM PREVIOUSLY ESTIMATED REGRESSIONS\n",
    "#####\n",
    "\n",
    "# Load previously estimated models\n",
    "m0 = pickle.load(open('./Models/'+modelName+'_0', 'rb'))\n",
    "m1 = pickle.load(open('./Models/'+modelName+'_1', 'rb'))\n",
    "m2 = pickle.load(open('./Models/'+modelName+'_2', 'rb'))\n",
    "m3 = pickle.load(open('./Models/'+modelName+'_3', 'rb'))\n",
    "m4 = pickle.load(open('./Models/'+modelName+'_4', 'rb'))\n",
    "\n",
    "# Combine traces\n",
    "models = [m0, m1, m2, m3, m4]\n",
    "m = concat_models(models)"
   ]
  },
  {
   "cell_type": "code",
   "execution_count": 4,
   "id": "9319b91c",
   "metadata": {},
   "outputs": [],
   "source": [
    "# m.nodes_db\n",
    "# ppc_data = hddm.utils.post_pred_gen(m)"
   ]
  },
  {
   "cell_type": "code",
   "execution_count": 6,
   "id": "83f387e8",
   "metadata": {},
   "outputs": [
    {
     "ename": "AttributeError",
     "evalue": "'DataFrame' object has no attribute 'ix'",
     "output_type": "error",
     "traceback": [
      "\u001b[0;31m---------------------------------------------------------------------------\u001b[0m",
      "\u001b[0;31mAttributeError\u001b[0m                            Traceback (most recent call last)",
      "\u001b[0;32m<ipython-input-6-11e52c41b1a7>\u001b[0m in \u001b[0;36m<module>\u001b[0;34m\u001b[0m\n\u001b[1;32m      1\u001b[0m \u001b[0;31m# Generate predicted results from previously estimated models\u001b[0m\u001b[0;34m\u001b[0m\u001b[0;34m\u001b[0m\u001b[0;34m\u001b[0m\u001b[0m\n\u001b[0;32m----> 2\u001b[0;31m \u001b[0mppc_data\u001b[0m \u001b[0;34m=\u001b[0m \u001b[0mpost_pred_gen\u001b[0m\u001b[0;34m(\u001b[0m\u001b[0mm\u001b[0m\u001b[0;34m,\u001b[0m \u001b[0msamples\u001b[0m\u001b[0;34m=\u001b[0m\u001b[0;36m1000\u001b[0m\u001b[0;34m,\u001b[0m \u001b[0mappend_data\u001b[0m\u001b[0;34m=\u001b[0m\u001b[0;32mTrue\u001b[0m\u001b[0;34m)\u001b[0m\u001b[0;34m\u001b[0m\u001b[0;34m\u001b[0m\u001b[0m\n\u001b[0m\u001b[1;32m      3\u001b[0m \u001b[0mppc_data\u001b[0m\u001b[0;34m.\u001b[0m\u001b[0mto_csv\u001b[0m\u001b[0;34m(\u001b[0m\u001b[0;34m'./PPC/'\u001b[0m\u001b[0;34m+\u001b[0m\u001b[0mmodelName\u001b[0m\u001b[0;34m+\u001b[0m\u001b[0;34m'_simData.csv'\u001b[0m\u001b[0;34m)\u001b[0m\u001b[0;34m\u001b[0m\u001b[0;34m\u001b[0m\u001b[0m\n",
      "\u001b[0;32m<ipython-input-2-ef1ded2718c5>\u001b[0m in \u001b[0;36mpost_pred_gen\u001b[0;34m(model, groupby, samples, append_data, progress_bar)\u001b[0m\n\u001b[1;32m     47\u001b[0m         \u001b[0miter_data\u001b[0m \u001b[0;34m=\u001b[0m \u001b[0mmodel\u001b[0m\u001b[0;34m.\u001b[0m\u001b[0mdata\u001b[0m\u001b[0;34m.\u001b[0m\u001b[0mgroupby\u001b[0m\u001b[0;34m(\u001b[0m\u001b[0mgroupby\u001b[0m\u001b[0;34m)\u001b[0m\u001b[0;34m\u001b[0m\u001b[0;34m\u001b[0m\u001b[0m\n\u001b[1;32m     48\u001b[0m \u001b[0;34m\u001b[0m\u001b[0m\n\u001b[0;32m---> 49\u001b[0;31m     \u001b[0;32mfor\u001b[0m \u001b[0mname\u001b[0m\u001b[0;34m,\u001b[0m \u001b[0mdata\u001b[0m \u001b[0;32min\u001b[0m \u001b[0miter_data\u001b[0m\u001b[0;34m:\u001b[0m\u001b[0;34m\u001b[0m\u001b[0;34m\u001b[0m\u001b[0m\n\u001b[0m\u001b[1;32m     50\u001b[0m         \u001b[0mnode\u001b[0m \u001b[0;34m=\u001b[0m \u001b[0mmodel\u001b[0m\u001b[0;34m.\u001b[0m\u001b[0mget_data_nodes\u001b[0m\u001b[0;34m(\u001b[0m\u001b[0mdata\u001b[0m\u001b[0;34m.\u001b[0m\u001b[0mindex\u001b[0m\u001b[0;34m)\u001b[0m\u001b[0;34m\u001b[0m\u001b[0;34m\u001b[0m\u001b[0m\n\u001b[1;32m     51\u001b[0m \u001b[0;34m\u001b[0m\u001b[0m\n",
      "\u001b[0;32m<ipython-input-2-ef1ded2718c5>\u001b[0m in \u001b[0;36m<genexpr>\u001b[0;34m(.0)\u001b[0m\n\u001b[1;32m     43\u001b[0m \u001b[0;34m\u001b[0m\u001b[0m\n\u001b[1;32m     44\u001b[0m     \u001b[0;32mif\u001b[0m \u001b[0mgroupby\u001b[0m \u001b[0;32mis\u001b[0m \u001b[0;32mNone\u001b[0m\u001b[0;34m:\u001b[0m\u001b[0;34m\u001b[0m\u001b[0;34m\u001b[0m\u001b[0m\n\u001b[0;32m---> 45\u001b[0;31m         \u001b[0miter_data\u001b[0m \u001b[0;34m=\u001b[0m \u001b[0;34m(\u001b[0m\u001b[0;34m(\u001b[0m\u001b[0mname\u001b[0m\u001b[0;34m,\u001b[0m \u001b[0mmodel\u001b[0m\u001b[0;34m.\u001b[0m\u001b[0mdata\u001b[0m\u001b[0;34m.\u001b[0m\u001b[0mix\u001b[0m\u001b[0;34m[\u001b[0m\u001b[0mobs\u001b[0m\u001b[0;34m[\u001b[0m\u001b[0;34m'node'\u001b[0m\u001b[0;34m]\u001b[0m\u001b[0;34m.\u001b[0m\u001b[0mvalue\u001b[0m\u001b[0;34m.\u001b[0m\u001b[0mindex\u001b[0m\u001b[0;34m]\u001b[0m\u001b[0;34m)\u001b[0m \u001b[0;32mfor\u001b[0m \u001b[0mname\u001b[0m\u001b[0;34m,\u001b[0m \u001b[0mobs\u001b[0m \u001b[0;32min\u001b[0m \u001b[0mmodel\u001b[0m\u001b[0;34m.\u001b[0m\u001b[0miter_observeds\u001b[0m\u001b[0;34m(\u001b[0m\u001b[0;34m)\u001b[0m\u001b[0;34m)\u001b[0m\u001b[0;34m\u001b[0m\u001b[0;34m\u001b[0m\u001b[0m\n\u001b[0m\u001b[1;32m     46\u001b[0m     \u001b[0;32melse\u001b[0m\u001b[0;34m:\u001b[0m\u001b[0;34m\u001b[0m\u001b[0;34m\u001b[0m\u001b[0m\n\u001b[1;32m     47\u001b[0m         \u001b[0miter_data\u001b[0m \u001b[0;34m=\u001b[0m \u001b[0mmodel\u001b[0m\u001b[0;34m.\u001b[0m\u001b[0mdata\u001b[0m\u001b[0;34m.\u001b[0m\u001b[0mgroupby\u001b[0m\u001b[0;34m(\u001b[0m\u001b[0mgroupby\u001b[0m\u001b[0;34m)\u001b[0m\u001b[0;34m\u001b[0m\u001b[0;34m\u001b[0m\u001b[0m\n",
      "\u001b[0;32m~/opt/anaconda3/envs/onlyhddm/lib/python3.6/site-packages/pandas/core/generic.py\u001b[0m in \u001b[0;36m__getattr__\u001b[0;34m(self, name)\u001b[0m\n\u001b[1;32m   5139\u001b[0m             \u001b[0;32mif\u001b[0m \u001b[0mself\u001b[0m\u001b[0;34m.\u001b[0m\u001b[0m_info_axis\u001b[0m\u001b[0;34m.\u001b[0m\u001b[0m_can_hold_identifiers_and_holds_name\u001b[0m\u001b[0;34m(\u001b[0m\u001b[0mname\u001b[0m\u001b[0;34m)\u001b[0m\u001b[0;34m:\u001b[0m\u001b[0;34m\u001b[0m\u001b[0;34m\u001b[0m\u001b[0m\n\u001b[1;32m   5140\u001b[0m                 \u001b[0;32mreturn\u001b[0m \u001b[0mself\u001b[0m\u001b[0;34m[\u001b[0m\u001b[0mname\u001b[0m\u001b[0;34m]\u001b[0m\u001b[0;34m\u001b[0m\u001b[0;34m\u001b[0m\u001b[0m\n\u001b[0;32m-> 5141\u001b[0;31m             \u001b[0;32mreturn\u001b[0m \u001b[0mobject\u001b[0m\u001b[0;34m.\u001b[0m\u001b[0m__getattribute__\u001b[0m\u001b[0;34m(\u001b[0m\u001b[0mself\u001b[0m\u001b[0;34m,\u001b[0m \u001b[0mname\u001b[0m\u001b[0;34m)\u001b[0m\u001b[0;34m\u001b[0m\u001b[0;34m\u001b[0m\u001b[0m\n\u001b[0m\u001b[1;32m   5142\u001b[0m \u001b[0;34m\u001b[0m\u001b[0m\n\u001b[1;32m   5143\u001b[0m     \u001b[0;32mdef\u001b[0m \u001b[0m__setattr__\u001b[0m\u001b[0;34m(\u001b[0m\u001b[0mself\u001b[0m\u001b[0;34m,\u001b[0m \u001b[0mname\u001b[0m\u001b[0;34m:\u001b[0m \u001b[0mstr\u001b[0m\u001b[0;34m,\u001b[0m \u001b[0mvalue\u001b[0m\u001b[0;34m)\u001b[0m \u001b[0;34m->\u001b[0m \u001b[0;32mNone\u001b[0m\u001b[0;34m:\u001b[0m\u001b[0;34m\u001b[0m\u001b[0;34m\u001b[0m\u001b[0m\n",
      "\u001b[0;31mAttributeError\u001b[0m: 'DataFrame' object has no attribute 'ix'"
     ]
    }
   ],
   "source": [
    "# Generate predicted results from previously estimated models\n",
    "ppc_data = post_pred_gen(m, samples=1000, append_data=True)\n",
    "ppc_data.to_csv('./PPC/'+modelName+'_simData.csv')"
   ]
  },
  {
   "cell_type": "code",
   "execution_count": 32,
   "id": "30ef9a99",
   "metadata": {},
   "outputs": [
    {
     "data": {
      "text/plain": [
       "<hddm.models.hddm_regression.HDDMRegressor at 0x7feff4b6b9b0>"
      ]
     },
     "execution_count": 32,
     "metadata": {},
     "output_type": "execute_result"
    }
   ],
   "source": [
    "m"
   ]
  }
 ],
 "metadata": {
  "kernelspec": {
   "display_name": "Python 3",
   "language": "python",
   "name": "python3"
  },
  "language_info": {
   "codemirror_mode": {
    "name": "ipython",
    "version": 3
   },
   "file_extension": ".py",
   "mimetype": "text/x-python",
   "name": "python",
   "nbconvert_exporter": "python",
   "pygments_lexer": "ipython3",
   "version": "3.6.13"
  }
 },
 "nbformat": 4,
 "nbformat_minor": 5
}
