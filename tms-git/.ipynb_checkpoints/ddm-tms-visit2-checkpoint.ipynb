{
 "cells": [
  {
   "cell_type": "code",
   "execution_count": 31,
   "id": "a853949c",
   "metadata": {},
   "outputs": [],
   "source": [
    "# Import requisite packages\n",
    "import matplotlib\n",
    "matplotlib.use('Agg') # Run before importing matplotlib.pyplot or pylab!\n",
    "import matplotlib.pyplot as plt\n",
    "import hddm\n",
    "import pandas as pd\n",
    "import pickle\n",
    "from patsy import dmatrix\n",
    "from kabuki.analyze import gelman_rubin\n",
    "from kabuki.utils import concat_models\n",
    "import pathlib"
   ]
  },
  {
   "cell_type": "code",
   "execution_count": 2,
   "id": "2e18baf1",
   "metadata": {},
   "outputs": [],
   "source": [
    "# Get around a problem with saving regression outputs in Python 3\n",
    "def savePatch(self, fname):\n",
    "    import pickle\n",
    "    with open(fname, 'wb') as f:\n",
    "        pickle.dump(self, f)\n",
    "hddm.HDDM.savePatch = savePatch"
   ]
  },
  {
   "cell_type": "code",
   "execution_count": 3,
   "id": "04cadffa",
   "metadata": {},
   "outputs": [
    {
     "data": {
      "text/plain": [
       "<function __main__.savePatch(self, fname)>"
      ]
     },
     "execution_count": 3,
     "metadata": {},
     "output_type": "execute_result"
    }
   ],
   "source": [
    "savePatch"
   ]
  },
  {
   "cell_type": "code",
   "execution_count": 4,
   "id": "266071eb",
   "metadata": {},
   "outputs": [
    {
     "data": {
      "text/plain": [
       "array([1, 2, 3, 4])"
      ]
     },
     "execution_count": 4,
     "metadata": {},
     "output_type": "execute_result"
    }
   ],
   "source": [
    "# Load data from csv file into a NumPy structured array\n",
    "data = hddm.load_csv('DDM_data_tms.csv')  # Change this!\n",
    "data.visit.unique()"
   ]
  },
  {
   "cell_type": "code",
   "execution_count": 5,
   "id": "06b94393",
   "metadata": {},
   "outputs": [
    {
     "data": {
      "text/plain": [
       "array(['Dual', 'Delay', 'Switch', 'Base'], dtype=object)"
      ]
     },
     "execution_count": 5,
     "metadata": {},
     "output_type": "execute_result"
    }
   ],
   "source": [
    "data.cond.unique()"
   ]
  },
  {
   "cell_type": "code",
   "execution_count": 6,
   "id": "2273053c",
   "metadata": {},
   "outputs": [],
   "source": [
    "data=data[data.visit==2]"
   ]
  },
  {
   "cell_type": "code",
   "execution_count": 7,
   "id": "f3b1fadf",
   "metadata": {},
   "outputs": [],
   "source": [
    "# Name this model\n",
    "modelName = 'm04_va_visit2'  # Change this!"
   ]
  },
  {
   "cell_type": "code",
   "execution_count": 35,
   "id": "974b5a03",
   "metadata": {},
   "outputs": [],
   "source": [
    "# Check whether save directories exist; if not, create them\n",
    "pathlib.Path('./Models/').mkdir(parents=True, exist_ok=True)\n",
    "pathlib.Path('./Results/').mkdir(parents=True, exist_ok=True)\n",
    "pathlib.Path('./Plots/' + modelName).mkdir(parents=True, exist_ok=True)"
   ]
  },
  {
   "cell_type": "code",
   "execution_count": 8,
   "id": "fe26b9c5",
   "metadata": {},
   "outputs": [
    {
     "name": "stdout",
     "output_type": "stream",
     "text": [
      "No model attribute --> setting up standard HDDM\n",
      "Set model to ddm\n"
     ]
    },
    {
     "name": "stderr",
     "output_type": "stream",
     "text": [
      "/Users/jongminlee/opt/anaconda3/envs/onlyhddm/lib/python3.6/site-packages/scipy/optimize/optimize.py:2116: RuntimeWarning: invalid value encountered in double_scalars\n",
      "  tmp2 = (x - v) * (fx - fw)\n"
     ]
    },
    {
     "name": "stdout",
     "output_type": "stream",
     "text": [
      " [-----------------100%-----------------] 2201 of 2200 complete in 1103.9 sec"
     ]
    }
   ],
   "source": [
    "models = []\n",
    "for i in range(5):\n",
    "    m = hddm.HDDMRegressor(data,\n",
    "        # Change this!\n",
    "        {\"v ~ C(cond, Treatment('Delay'))\",\n",
    "        \"a ~ C(cond, Treatment('Delay'))\"},\n",
    "        group_only_regressors=True,\n",
    "        p_outlier=.05)\n",
    "#         include={'z'}\n",
    "\n",
    "    m.find_starting_values()\n",
    "    m.sample(2200, burn=200, dbname='./Models/'+modelName+'_%s.db'%i, db='pickle')\n",
    "#     m.savePatch('./Models/'+modelName+'_%s'%i)\n",
    "    m.save('./Models/'+modelName+'_%s'%i)\n",
    "    models.append(m)"
   ]
  },
  {
   "cell_type": "code",
   "execution_count": 11,
   "id": "f34f40b3",
   "metadata": {},
   "outputs": [],
   "source": [
    "# Calculate Gelman-Rubin r-hat statistic\n",
    "m_rhat = gelman_rubin(models)\n",
    "pd.DataFrame.from_dict(m_rhat, orient='index').to_csv('./Results/'+modelName+'_RHat.csv')\n",
    "\n",
    "\n",
    "# Save traces of concatenated model (only valid to look at if converged!)\n",
    "m_comb = concat_models(models)\n",
    "m_comb_export = m_comb.get_traces()\n",
    "m_comb_export.to_csv('./Results/'+modelName+'_traces.csv')"
   ]
  },
  {
   "cell_type": "code",
   "execution_count": 12,
   "id": "d1f4c95b",
   "metadata": {},
   "outputs": [
    {
     "name": "stdout",
     "output_type": "stream",
     "text": [
      "Plotting t\n",
      "Plotting t_std\n",
      "Plotting v_Intercept\n",
      "Plotting v_Intercept_std\n",
      "Plotting a_Intercept\n",
      "Plotting a_Intercept_std\n",
      "Plotting v_C(cond, Treatment('Delay'))[T.Dual]\n",
      "Plotting v_C(cond, Treatment('Delay'))[T.Base]\n",
      "Plotting v_C(cond, Treatment('Delay'))[T.Switch]\n",
      "Plotting a_C(cond, Treatment('Delay'))[T.Dual]\n",
      "Plotting a_C(cond, Treatment('Delay'))[T.Base]\n",
      "Plotting a_C(cond, Treatment('Delay'))[T.Switch]\n",
      "DIC: 1993.283724\n"
     ]
    }
   ],
   "source": [
    "# List figures to be saved\n",
    "# Change this!\n",
    "convergeCheck = [\n",
    "'t', 't_std',\n",
    "'z', 'z_std',\n",
    "\n",
    "'v_Intercept', 'v_Intercept_std',\n",
    "'a_Intercept', 'a_Intercept_std',\n",
    "\n",
    "'v_C(cond, Treatment(\\'Delay\\'))[T.Dual]',\n",
    "'v_C(cond, Treatment(\\'Delay\\'))[T.Base]',\n",
    "'v_C(cond, Treatment(\\'Delay\\'))[T.Switch]',\n",
    "\n",
    "'a_C(cond, Treatment(\\'Delay\\'))[T.Dual]',\n",
    "'a_C(cond, Treatment(\\'Delay\\'))[T.Base]',\n",
    "'a_C(cond, Treatment(\\'Delay\\'))[T.Switch]'\n",
    "]\n",
    "\n",
    "# Save convergence figures\n",
    "for i in convergeCheck:\n",
    "    fig = m_comb.plot_posteriors(i)\n",
    "    plt.savefig('./Plots/' + modelName + '/' + i + '.pdf')\n",
    "\n",
    "\n",
    "\n",
    "#####\n",
    "#####  GET DIC\n",
    "#####\n",
    "\n",
    "print(\"DIC: %f\" %m_comb.dic)"
   ]
  },
  {
   "cell_type": "code",
   "execution_count": 13,
   "id": "16f1cdd5",
   "metadata": {},
   "outputs": [],
   "source": [
    "plt.close('all')"
   ]
  }
 ],
 "metadata": {
  "kernelspec": {
   "display_name": "Python 3",
   "language": "python",
   "name": "python3"
  },
  "language_info": {
   "codemirror_mode": {
    "name": "ipython",
    "version": 3
   },
   "file_extension": ".py",
   "mimetype": "text/x-python",
   "name": "python",
   "nbconvert_exporter": "python",
   "pygments_lexer": "ipython3",
   "version": "3.6.13"
  }
 },
 "nbformat": 4,
 "nbformat_minor": 5
}
