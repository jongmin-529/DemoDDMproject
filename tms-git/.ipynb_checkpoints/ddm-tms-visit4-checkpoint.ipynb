{
 "cells": [
  {
   "cell_type": "code",
   "execution_count": 1,
   "id": "a853949c",
   "metadata": {},
   "outputs": [],
   "source": [
    "# Import requisite packages\n",
    "import matplotlib\n",
    "matplotlib.use('Agg') # Run before importing matplotlib.pyplot or pylab!\n",
    "import matplotlib.pyplot as plt\n",
    "import hddm\n",
    "import pandas as pd\n",
    "import pickle\n",
    "from patsy import dmatrix\n",
    "from kabuki.analyze import gelman_rubin\n",
    "from kabuki.utils import concat_models\n",
    "import pathlib"
   ]
  },
  {
   "cell_type": "code",
   "execution_count": 2,
   "id": "2e18baf1",
   "metadata": {},
   "outputs": [],
   "source": [
    "# Get around a problem with saving regression outputs in Python 3\n",
    "def savePatch(self, fname):\n",
    "    import pickle\n",
    "    with open(fname, 'wb') as f:\n",
    "        pickle.dump(self, f)\n",
    "hddm.HDDM.savePatch = savePatch\n"
   ]
  },
  {
   "cell_type": "code",
   "execution_count": 3,
   "id": "04cadffa",
   "metadata": {},
   "outputs": [
    {
     "data": {
      "text/plain": [
       "<function __main__.savePatch(self, fname)>"
      ]
     },
     "execution_count": 3,
     "metadata": {},
     "output_type": "execute_result"
    }
   ],
   "source": [
    "savePatch"
   ]
  },
  {
   "cell_type": "code",
   "execution_count": 4,
   "id": "266071eb",
   "metadata": {},
   "outputs": [
    {
     "data": {
      "text/plain": [
       "array([1, 2, 3, 4])"
      ]
     },
     "execution_count": 4,
     "metadata": {},
     "output_type": "execute_result"
    }
   ],
   "source": [
    "# Load data from csv file into a NumPy structured array\n",
    "data = hddm.load_csv('DDM_data_tms.csv')  # Change this!\n",
    "data.visit.unique()"
   ]
  },
  {
   "cell_type": "code",
   "execution_count": 5,
   "id": "06b94393",
   "metadata": {},
   "outputs": [
    {
     "data": {
      "text/plain": [
       "array(['Dual', 'Delay', 'Switch', 'Base'], dtype=object)"
      ]
     },
     "execution_count": 5,
     "metadata": {},
     "output_type": "execute_result"
    }
   ],
   "source": [
    "data.cond.unique()"
   ]
  },
  {
   "cell_type": "code",
   "execution_count": 6,
   "id": "0c505214",
   "metadata": {},
   "outputs": [
    {
     "data": {
      "text/html": [
       "<div>\n",
       "<style scoped>\n",
       "    .dataframe tbody tr th:only-of-type {\n",
       "        vertical-align: middle;\n",
       "    }\n",
       "\n",
       "    .dataframe tbody tr th {\n",
       "        vertical-align: top;\n",
       "    }\n",
       "\n",
       "    .dataframe thead th {\n",
       "        text-align: right;\n",
       "    }\n",
       "</style>\n",
       "<table border=\"1\" class=\"dataframe\">\n",
       "  <thead>\n",
       "    <tr style=\"text-align: right;\">\n",
       "      <th></th>\n",
       "      <th>subj_idx</th>\n",
       "      <th>visit</th>\n",
       "      <th>response</th>\n",
       "      <th>rt</th>\n",
       "      <th>acc</th>\n",
       "      <th>cond</th>\n",
       "      <th>ctrl</th>\n",
       "    </tr>\n",
       "  </thead>\n",
       "  <tbody>\n",
       "    <tr>\n",
       "      <th>574</th>\n",
       "      <td>1</td>\n",
       "      <td>4</td>\n",
       "      <td>0.0</td>\n",
       "      <td>0.7179</td>\n",
       "      <td>1</td>\n",
       "      <td>Dual</td>\n",
       "      <td>HH</td>\n",
       "    </tr>\n",
       "    <tr>\n",
       "      <th>575</th>\n",
       "      <td>1</td>\n",
       "      <td>4</td>\n",
       "      <td>1.0</td>\n",
       "      <td>0.5600</td>\n",
       "      <td>1</td>\n",
       "      <td>Dual</td>\n",
       "      <td>HH</td>\n",
       "    </tr>\n",
       "    <tr>\n",
       "      <th>576</th>\n",
       "      <td>1</td>\n",
       "      <td>4</td>\n",
       "      <td>0.0</td>\n",
       "      <td>0.5191</td>\n",
       "      <td>1</td>\n",
       "      <td>Dual</td>\n",
       "      <td>HH</td>\n",
       "    </tr>\n",
       "    <tr>\n",
       "      <th>577</th>\n",
       "      <td>1</td>\n",
       "      <td>4</td>\n",
       "      <td>0.0</td>\n",
       "      <td>1.1483</td>\n",
       "      <td>1</td>\n",
       "      <td>Dual</td>\n",
       "      <td>HH</td>\n",
       "    </tr>\n",
       "    <tr>\n",
       "      <th>578</th>\n",
       "      <td>1</td>\n",
       "      <td>4</td>\n",
       "      <td>0.0</td>\n",
       "      <td>1.8728</td>\n",
       "      <td>1</td>\n",
       "      <td>Dual</td>\n",
       "      <td>HH</td>\n",
       "    </tr>\n",
       "    <tr>\n",
       "      <th>...</th>\n",
       "      <td>...</td>\n",
       "      <td>...</td>\n",
       "      <td>...</td>\n",
       "      <td>...</td>\n",
       "      <td>...</td>\n",
       "      <td>...</td>\n",
       "      <td>...</td>\n",
       "    </tr>\n",
       "    <tr>\n",
       "      <th>13043</th>\n",
       "      <td>17</td>\n",
       "      <td>4</td>\n",
       "      <td>1.0</td>\n",
       "      <td>0.5263</td>\n",
       "      <td>1</td>\n",
       "      <td>Base</td>\n",
       "      <td>LL</td>\n",
       "    </tr>\n",
       "    <tr>\n",
       "      <th>13044</th>\n",
       "      <td>17</td>\n",
       "      <td>4</td>\n",
       "      <td>0.0</td>\n",
       "      <td>0.3909</td>\n",
       "      <td>1</td>\n",
       "      <td>Base</td>\n",
       "      <td>LL</td>\n",
       "    </tr>\n",
       "    <tr>\n",
       "      <th>13045</th>\n",
       "      <td>17</td>\n",
       "      <td>4</td>\n",
       "      <td>1.0</td>\n",
       "      <td>0.5830</td>\n",
       "      <td>1</td>\n",
       "      <td>Base</td>\n",
       "      <td>LL</td>\n",
       "    </tr>\n",
       "    <tr>\n",
       "      <th>13046</th>\n",
       "      <td>17</td>\n",
       "      <td>4</td>\n",
       "      <td>0.0</td>\n",
       "      <td>0.3553</td>\n",
       "      <td>1</td>\n",
       "      <td>Base</td>\n",
       "      <td>LL</td>\n",
       "    </tr>\n",
       "    <tr>\n",
       "      <th>13047</th>\n",
       "      <td>17</td>\n",
       "      <td>4</td>\n",
       "      <td>1.0</td>\n",
       "      <td>0.5954</td>\n",
       "      <td>1</td>\n",
       "      <td>Base</td>\n",
       "      <td>LL</td>\n",
       "    </tr>\n",
       "  </tbody>\n",
       "</table>\n",
       "<p>3264 rows × 7 columns</p>\n",
       "</div>"
      ],
      "text/plain": [
       "       subj_idx  visit  response      rt  acc  cond ctrl\n",
       "574           1      4       0.0  0.7179    1  Dual   HH\n",
       "575           1      4       1.0  0.5600    1  Dual   HH\n",
       "576           1      4       0.0  0.5191    1  Dual   HH\n",
       "577           1      4       0.0  1.1483    1  Dual   HH\n",
       "578           1      4       0.0  1.8728    1  Dual   HH\n",
       "...         ...    ...       ...     ...  ...   ...  ...\n",
       "13043        17      4       1.0  0.5263    1  Base   LL\n",
       "13044        17      4       0.0  0.3909    1  Base   LL\n",
       "13045        17      4       1.0  0.5830    1  Base   LL\n",
       "13046        17      4       0.0  0.3553    1  Base   LL\n",
       "13047        17      4       1.0  0.5954    1  Base   LL\n",
       "\n",
       "[3264 rows x 7 columns]"
      ]
     },
     "execution_count": 6,
     "metadata": {},
     "output_type": "execute_result"
    }
   ],
   "source": [
    "data = data[data.visit == 4]\n",
    "data"
   ]
  },
  {
   "cell_type": "code",
   "execution_count": 7,
   "id": "f3b1fadf",
   "metadata": {},
   "outputs": [],
   "source": [
    "# Name this model\n",
    "modelName = 'm04_va_visit4'  # Change this!"
   ]
  },
  {
   "cell_type": "code",
   "execution_count": 8,
   "id": "974b5a03",
   "metadata": {},
   "outputs": [],
   "source": [
    "# Check whether save directories exist; if not, create them\n",
    "pathlib.Path('./Models/').mkdir(parents=True, exist_ok=True)\n",
    "pathlib.Path('./Results/').mkdir(parents=True, exist_ok=True)\n",
    "pathlib.Path('./Plots/' + modelName).mkdir(parents=True, exist_ok=True)"
   ]
  },
  {
   "cell_type": "code",
   "execution_count": 9,
   "id": "fe26b9c5",
   "metadata": {},
   "outputs": [
    {
     "name": "stdout",
     "output_type": "stream",
     "text": [
      "No model attribute --> setting up standard HDDM\n",
      "Set model to ddm\n"
     ]
    },
    {
     "name": "stderr",
     "output_type": "stream",
     "text": [
      "/Users/jongminlee/opt/anaconda3/envs/onlyhddm/lib/python3.6/site-packages/scipy/optimize/optimize.py:2116: RuntimeWarning: invalid value encountered in double_scalars\n",
      "  tmp2 = (x - v) * (fx - fw)\n"
     ]
    },
    {
     "name": "stdout",
     "output_type": "stream",
     "text": [
      " [-----------------100%-----------------] 2201 of 2200 complete in 1092.2 secNo model attribute --> setting up standard HDDM\n",
      "Set model to ddm\n"
     ]
    },
    {
     "name": "stderr",
     "output_type": "stream",
     "text": [
      "/Users/jongminlee/opt/anaconda3/envs/onlyhddm/lib/python3.6/site-packages/scipy/optimize/optimize.py:2116: RuntimeWarning: invalid value encountered in double_scalars\n",
      "  tmp2 = (x - v) * (fx - fw)\n"
     ]
    },
    {
     "name": "stdout",
     "output_type": "stream",
     "text": [
      " [-----------------100%-----------------] 2201 of 2200 complete in 1107.3 secNo model attribute --> setting up standard HDDM\n",
      "Set model to ddm\n"
     ]
    },
    {
     "name": "stderr",
     "output_type": "stream",
     "text": [
      "/Users/jongminlee/opt/anaconda3/envs/onlyhddm/lib/python3.6/site-packages/scipy/optimize/optimize.py:2116: RuntimeWarning: invalid value encountered in double_scalars\n",
      "  tmp2 = (x - v) * (fx - fw)\n"
     ]
    },
    {
     "name": "stdout",
     "output_type": "stream",
     "text": [
      " [-----------------100%-----------------] 2200 of 2200 complete in 1102.5 secNo model attribute --> setting up standard HDDM\n",
      "Set model to ddm\n"
     ]
    },
    {
     "name": "stderr",
     "output_type": "stream",
     "text": [
      "/Users/jongminlee/opt/anaconda3/envs/onlyhddm/lib/python3.6/site-packages/scipy/optimize/optimize.py:2116: RuntimeWarning: invalid value encountered in double_scalars\n",
      "  tmp2 = (x - v) * (fx - fw)\n"
     ]
    },
    {
     "name": "stdout",
     "output_type": "stream",
     "text": [
      " [-----------------100%-----------------] 2200 of 2200 complete in 1097.7 secNo model attribute --> setting up standard HDDM\n",
      "Set model to ddm\n"
     ]
    },
    {
     "name": "stderr",
     "output_type": "stream",
     "text": [
      "/Users/jongminlee/opt/anaconda3/envs/onlyhddm/lib/python3.6/site-packages/scipy/optimize/optimize.py:2116: RuntimeWarning: invalid value encountered in double_scalars\n",
      "  tmp2 = (x - v) * (fx - fw)\n"
     ]
    },
    {
     "name": "stdout",
     "output_type": "stream",
     "text": [
      " [-----------------100%-----------------] 2200 of 2200 complete in 1104.3 sec"
     ]
    }
   ],
   "source": [
    "models = []\n",
    "for i in range(5):\n",
    "    m = hddm.HDDMRegressor(data,\n",
    "        # Change this!\n",
    "        {\"v ~ C(cond, Treatment('Delay'))\",\n",
    "        \"a ~ C(cond, Treatment('Delay'))\"},\n",
    "        group_only_regressors=True,\n",
    "        p_outlier=.05)\n",
    "#         include={'z'}\n",
    "\n",
    "    m.find_starting_values()\n",
    "    m.sample(2200, burn=200, dbname='./Models/'+modelName+'_%s.db'%i, db='pickle')\n",
    "#     m.savePatch('./Models/'+modelName+'_%s'%i)\n",
    "    m.save('./Models/'+modelName+'_%s'%i)\n",
    "    models.append(m)"
   ]
  },
  {
   "cell_type": "code",
   "execution_count": 10,
   "id": "f34f40b3",
   "metadata": {},
   "outputs": [],
   "source": [
    "# Calculate Gelman-Rubin r-hat statistic\n",
    "m_rhat = gelman_rubin(models)\n",
    "pd.DataFrame.from_dict(m_rhat, orient='index').to_csv('./Results/'+modelName+'_RHat.csv')\n",
    "\n",
    "\n",
    "# Save traces of concatenated model (only valid to look at if converged!)\n",
    "m_comb = concat_models(models)\n",
    "m_comb_export = m_comb.get_traces()\n",
    "m_comb_export.to_csv('./Results/'+modelName+'_traces.csv')"
   ]
  },
  {
   "cell_type": "code",
   "execution_count": 11,
   "id": "d1f4c95b",
   "metadata": {},
   "outputs": [
    {
     "name": "stdout",
     "output_type": "stream",
     "text": [
      "Plotting t\n",
      "Plotting t_std\n",
      "Plotting v_Intercept\n",
      "Plotting v_Intercept_std\n",
      "Plotting a_Intercept\n",
      "Plotting a_Intercept_std\n",
      "Plotting v_C(cond, Treatment('Delay'))[T.Dual]\n",
      "Plotting v_C(cond, Treatment('Delay'))[T.Base]\n",
      "Plotting v_C(cond, Treatment('Delay'))[T.Switch]\n",
      "Plotting a_C(cond, Treatment('Delay'))[T.Dual]\n",
      "Plotting a_C(cond, Treatment('Delay'))[T.Base]\n",
      "Plotting a_C(cond, Treatment('Delay'))[T.Switch]\n",
      "DIC: 1597.732529\n"
     ]
    }
   ],
   "source": [
    "# List figures to be saved\n",
    "# Change this!\n",
    "convergeCheck = [\n",
    "'t', 't_std',\n",
    "'z', 'z_std',\n",
    "\n",
    "'v_Intercept', 'v_Intercept_std',\n",
    "'a_Intercept', 'a_Intercept_std',\n",
    "\n",
    "'v_C(cond, Treatment(\\'Delay\\'))[T.Dual]',\n",
    "'v_C(cond, Treatment(\\'Delay\\'))[T.Base]',\n",
    "'v_C(cond, Treatment(\\'Delay\\'))[T.Switch]',\n",
    "\n",
    "'a_C(cond, Treatment(\\'Delay\\'))[T.Dual]',\n",
    "'a_C(cond, Treatment(\\'Delay\\'))[T.Base]',\n",
    "'a_C(cond, Treatment(\\'Delay\\'))[T.Switch]'\n",
    "]\n",
    "\n",
    "# Save convergence figures\n",
    "for i in convergeCheck:\n",
    "    fig = m_comb.plot_posteriors(i)\n",
    "    plt.savefig('./Plots/' + modelName + '/' + i + '.pdf')\n",
    "\n",
    "\n",
    "\n",
    "#####\n",
    "#####  GET DIC\n",
    "#####\n",
    "\n",
    "print(\"DIC: %f\" %m_comb.dic)"
   ]
  },
  {
   "cell_type": "code",
   "execution_count": 12,
   "id": "16f1cdd5",
   "metadata": {},
   "outputs": [],
   "source": [
    "plt.close('all')"
   ]
  },
  {
   "cell_type": "code",
   "execution_count": null,
   "id": "099c7b37",
   "metadata": {},
   "outputs": [],
   "source": [
    "%matplotlib inline\n",
    "# Load previously estimated models\n",
    "m0 = pickle.load(open('./Models/Delay/'+modelName+'_0', 'rb'))\n",
    "m1 = pickle.load(open('./Models/Delay/'+modelName+'_1', 'rb'))\n",
    "m2 = pickle.load(open('./Models/Delay/'+modelName+'_2', 'rb'))\n",
    "m3 = pickle.load(open('./Models/Delay/'+modelName+'_3', 'rb'))\n",
    "m4 = pickle.load(open('./Models/Delay/'+modelName+'_4', 'rb'))\n",
    "\n",
    "# Combine traces\n",
    "models = [m0, m1, m2, m3, m4]\n",
    "m = concat_models(models)"
   ]
  }
 ],
 "metadata": {
  "kernelspec": {
   "display_name": "Python 3",
   "language": "python",
   "name": "python3"
  },
  "language_info": {
   "codemirror_mode": {
    "name": "ipython",
    "version": 3
   },
   "file_extension": ".py",
   "mimetype": "text/x-python",
   "name": "python",
   "nbconvert_exporter": "python",
   "pygments_lexer": "ipython3",
   "version": "3.6.13"
  }
 },
 "nbformat": 4,
 "nbformat_minor": 5
}
