{
 "cells": [
  {
   "cell_type": "code",
   "execution_count": 4,
   "id": "14cb625b",
   "metadata": {},
   "outputs": [],
   "source": [
    "#####\n",
    "#####  SET UP ENVIRONMENT\n",
    "#####\n",
    "\n",
    "# Import requisite packages\n",
    "import pandas as pd\n",
    "import hddm\n",
    "import pickle\n",
    "from patsy import dmatrix\n",
    "from kabuki.utils import concat_models\n",
    "import pathlib\n",
    "\n",
    "# Name this model\n",
    "modelName = 'm04_va_visit4'  # Change this!\n",
    "\n",
    "# Check whether save directories exist; if not, create them\n",
    "pathlib.Path('./PPC/').mkdir(parents=True, exist_ok=True)"
   ]
  },
  {
   "cell_type": "code",
   "execution_count": 5,
   "id": "a9761cff",
   "metadata": {},
   "outputs": [],
   "source": [
    "\n",
    "import pymc as pm\n",
    "import numpy as np\n",
    "import pymc.progressbar as pbar\n",
    "\n",
    "def _parents_to_random_posterior_sample(bottom_node, pos=None):\n",
    "    \"\"\"Walks through parents and sets them to pos sample.\"\"\"\n",
    "    for i, parent in enumerate(bottom_node.extended_parents):\n",
    "        if not isinstance(parent, pm.Node): # Skip non-stochastic nodes\n",
    "            continue\n",
    "\n",
    "        if pos is None:\n",
    "            # Set to random posterior position\n",
    "            pos = np.random.randint(0, len(parent.trace()))\n",
    "\n",
    "        assert len(parent.trace()) >= pos, \"pos larger than posterior sample size\"\n",
    "        parent.value = parent.trace()[pos]\n",
    "\n",
    "def _post_pred_generate(bottom_node, samples=500, data=None, append_data=True):\n",
    "    \"\"\"Generate posterior predictive data from a single observed node.\"\"\"\n",
    "    datasets = []\n",
    "    ##############################\n",
    "    # Sample and generate stats\n",
    "    for sample in range(samples):\n",
    "        _parents_to_random_posterior_sample(bottom_node)\n",
    "        # Generate data from bottom node\n",
    "        sampled_data = bottom_node.random()\n",
    "        sampled_data.reset_index(inplace=True)\n",
    "        if append_data and data is not None:\n",
    "            sampled_data = sampled_data.join(data.reset_index(), lsuffix='_sampled')\n",
    "        datasets.append(sampled_data)\n",
    "    return datasets\n",
    "\n",
    "def post_pred_gen(model, groupby=None, samples=500, append_data=False, progress_bar=True):\n",
    "    results = {}\n",
    "\n",
    "    # Progress bar\n",
    "    if progress_bar:\n",
    "        n_iter = len(model.get_observeds())\n",
    "        bar = pbar.progress_bar(n_iter)\n",
    "        bar_iter = 0\n",
    "    else:\n",
    "        print(\"Sampling...\")\n",
    "\n",
    "    if groupby is None:\n",
    "        iter_data = ((name, model.data.ix[obs['node'].value.index]) for name, obs in model.iter_observeds())\n",
    "    else:\n",
    "        iter_data = model.data.groupby(groupby)\n",
    "\n",
    "    for name, data in iter_data:\n",
    "        node = model.get_data_nodes(data.index)\n",
    "\n",
    "        if progress_bar:\n",
    "            bar_iter += 1\n",
    "            bar.update(bar_iter)\n",
    "\n",
    "        if node is None or not hasattr(node, 'random'):\n",
    "            continue # Skip\n",
    "\n",
    "        ##############################\n",
    "        # Sample and generate stats\n",
    "        datasets = _post_pred_generate(node, samples=samples, data=data, append_data=append_data)\n",
    "        results[name] = pd.concat(datasets, names=['sample'], keys=list(range(len(datasets))))\n",
    "\n",
    "    if progress_bar:\n",
    "        bar_iter += 1\n",
    "        bar.update(bar_iter)\n",
    "\n",
    "    return pd.concat(results, names=['node'])\n",
    "\n"
   ]
  },
  {
   "cell_type": "code",
   "execution_count": 6,
   "id": "9bcd21f3",
   "metadata": {},
   "outputs": [],
   "source": [
    "\n",
    "#####\n",
    "#####  LOAD MODELS AND TRACES FROM PREVIOUSLY ESTIMATED REGRESSIONS\n",
    "#####\n",
    "\n",
    "# Load previously estimated models\n",
    "m0 = pickle.load(open('./Models/'+modelName+'_0', 'rb'))\n",
    "m1 = pickle.load(open('./Models/'+modelName+'_1', 'rb'))\n",
    "m2 = pickle.load(open('./Models/'+modelName+'_2', 'rb'))\n",
    "m3 = pickle.load(open('./Models/'+modelName+'_3', 'rb'))\n",
    "m4 = pickle.load(open('./Models/'+modelName+'_4', 'rb'))\n",
    "\n",
    "# Combine traces\n",
    "models = [m0, m1, m2, m3, m4]\n",
    "m = concat_models(models)"
   ]
  },
  {
   "cell_type": "code",
   "execution_count": 7,
   "id": "9319b91c",
   "metadata": {},
   "outputs": [],
   "source": [
    "# m.nodes_db\n",
    "# ppc_data = hddm.utils.post_pred_gen(m)"
   ]
  },
  {
   "cell_type": "code",
   "execution_count": 8,
   "id": "83f387e8",
   "metadata": {},
   "outputs": [
    {
     "ename": "NotImplementedError",
     "evalue": "Supply a grouping so that at most 1 observed node codes for each group.",
     "output_type": "error",
     "traceback": [
      "\u001b[0;31m---------------------------------------------------------------------------\u001b[0m",
      "\u001b[0;31mNotImplementedError\u001b[0m                       Traceback (most recent call last)",
      "\u001b[0;32m<ipython-input-8-02cea55d124c>\u001b[0m in \u001b[0;36m<module>\u001b[0;34m\u001b[0m\n\u001b[1;32m      1\u001b[0m \u001b[0;31m# Generate predicted results from previously estimated models\u001b[0m\u001b[0;34m\u001b[0m\u001b[0;34m\u001b[0m\u001b[0;34m\u001b[0m\u001b[0m\n\u001b[0;32m----> 2\u001b[0;31m \u001b[0mppc_data\u001b[0m \u001b[0;34m=\u001b[0m \u001b[0mhddm\u001b[0m\u001b[0;34m.\u001b[0m\u001b[0mutils\u001b[0m\u001b[0;34m.\u001b[0m\u001b[0mpost_pred_gen\u001b[0m\u001b[0;34m(\u001b[0m\u001b[0mm\u001b[0m\u001b[0;34m,\u001b[0m \u001b[0msamples\u001b[0m\u001b[0;34m=\u001b[0m\u001b[0;36m1000\u001b[0m\u001b[0;34m,\u001b[0m \u001b[0mappend_data\u001b[0m\u001b[0;34m=\u001b[0m\u001b[0;32mTrue\u001b[0m\u001b[0;34m)\u001b[0m\u001b[0;34m\u001b[0m\u001b[0;34m\u001b[0m\u001b[0m\n\u001b[0m\u001b[1;32m      3\u001b[0m \u001b[0mppc_data\u001b[0m\u001b[0;34m.\u001b[0m\u001b[0mto_csv\u001b[0m\u001b[0;34m(\u001b[0m\u001b[0;34m'./PPC/'\u001b[0m\u001b[0;34m+\u001b[0m\u001b[0mmodelName\u001b[0m\u001b[0;34m+\u001b[0m\u001b[0;34m'_simData.csv'\u001b[0m\u001b[0;34m)\u001b[0m\u001b[0;34m\u001b[0m\u001b[0;34m\u001b[0m\u001b[0m\n",
      "\u001b[0;32m~/opt/anaconda3/envs/onlyhddm/lib/python3.6/site-packages/kabuki/analyze.py\u001b[0m in \u001b[0;36mpost_pred_gen\u001b[0;34m(model, groupby, samples, append_data, add_model_parameters, progress_bar)\u001b[0m\n\u001b[1;32m    329\u001b[0m \u001b[0;34m\u001b[0m\u001b[0m\n\u001b[1;32m    330\u001b[0m     \u001b[0;32mfor\u001b[0m \u001b[0mname\u001b[0m\u001b[0;34m,\u001b[0m \u001b[0mdata\u001b[0m \u001b[0;32min\u001b[0m \u001b[0miter_data\u001b[0m\u001b[0;34m:\u001b[0m\u001b[0;34m\u001b[0m\u001b[0;34m\u001b[0m\u001b[0m\n\u001b[0;32m--> 331\u001b[0;31m         \u001b[0mnode\u001b[0m \u001b[0;34m=\u001b[0m \u001b[0mmodel\u001b[0m\u001b[0;34m.\u001b[0m\u001b[0mget_data_nodes\u001b[0m\u001b[0;34m(\u001b[0m\u001b[0mdata\u001b[0m\u001b[0;34m.\u001b[0m\u001b[0mindex\u001b[0m\u001b[0;34m)\u001b[0m\u001b[0;34m\u001b[0m\u001b[0;34m\u001b[0m\u001b[0m\n\u001b[0m\u001b[1;32m    332\u001b[0m \u001b[0;34m\u001b[0m\u001b[0m\n\u001b[1;32m    333\u001b[0m         \u001b[0;32mif\u001b[0m \u001b[0mprogress_bar\u001b[0m\u001b[0;34m:\u001b[0m\u001b[0;34m\u001b[0m\u001b[0;34m\u001b[0m\u001b[0m\n",
      "\u001b[0;32m~/opt/anaconda3/envs/onlyhddm/lib/python3.6/site-packages/kabuki/hierarchical.py\u001b[0m in \u001b[0;36mget_data_nodes\u001b[0;34m(self, idx)\u001b[0m\n\u001b[1;32m    951\u001b[0m \u001b[0;34m\u001b[0m\u001b[0m\n\u001b[1;32m    952\u001b[0m         \u001b[0;32mif\u001b[0m \u001b[0mlen\u001b[0m\u001b[0;34m(\u001b[0m\u001b[0mdata_nodes\u001b[0m\u001b[0;34m)\u001b[0m \u001b[0;34m!=\u001b[0m \u001b[0;36m1\u001b[0m\u001b[0;34m:\u001b[0m\u001b[0;34m\u001b[0m\u001b[0;34m\u001b[0m\u001b[0m\n\u001b[0;32m--> 953\u001b[0;31m             \u001b[0;32mraise\u001b[0m \u001b[0mNotImplementedError\u001b[0m\u001b[0;34m(\u001b[0m\u001b[0;34m\"Supply a grouping so that at most 1 observed node codes for each group.\"\u001b[0m\u001b[0;34m)\u001b[0m\u001b[0;34m\u001b[0m\u001b[0;34m\u001b[0m\u001b[0m\n\u001b[0m\u001b[1;32m    954\u001b[0m \u001b[0;34m\u001b[0m\u001b[0m\n\u001b[1;32m    955\u001b[0m         \u001b[0;32mreturn\u001b[0m \u001b[0mdata_nodes\u001b[0m\u001b[0;34m[\u001b[0m\u001b[0;36m0\u001b[0m\u001b[0;34m]\u001b[0m\u001b[0;34m\u001b[0m\u001b[0;34m\u001b[0m\u001b[0m\n",
      "\u001b[0;31mNotImplementedError\u001b[0m: Supply a grouping so that at most 1 observed node codes for each group."
     ]
    }
   ],
   "source": [
    "# Generate predicted results from previously estimated models\n",
    "ppc_data = hddm.utils.post_pred_gen(m, samples=1000, append_data=True)\n",
    "ppc_data.to_csv('./PPC/'+modelName+'_simData.csv')"
   ]
  },
  {
   "cell_type": "code",
   "execution_count": null,
   "id": "f64735bf",
   "metadata": {},
   "outputs": [],
   "source": []
  }
 ],
 "metadata": {
  "kernelspec": {
   "display_name": "Python 3",
   "language": "python",
   "name": "python3"
  },
  "language_info": {
   "codemirror_mode": {
    "name": "ipython",
    "version": 3
   },
   "file_extension": ".py",
   "mimetype": "text/x-python",
   "name": "python",
   "nbconvert_exporter": "python",
   "pygments_lexer": "ipython3",
   "version": "3.6.13"
  }
 },
 "nbformat": 4,
 "nbformat_minor": 5
}
